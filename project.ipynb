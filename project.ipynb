{
 "cells": [
  {
   "cell_type": "code",
   "execution_count": 1,
   "metadata": {},
   "outputs": [
    {
     "name": "stderr",
     "output_type": "stream",
     "text": [
      "Using TensorFlow backend.\n",
      "/usr/local/lib/python3.7/dist-packages/tensorflow/python/framework/dtypes.py:516: FutureWarning: Passing (type, 1) or '1type' as a synonym of type is deprecated; in a future version of numpy, it will be understood as (type, (1,)) / '(1,)type'.\n",
      "  _np_qint8 = np.dtype([(\"qint8\", np.int8, 1)])\n",
      "/usr/local/lib/python3.7/dist-packages/tensorflow/python/framework/dtypes.py:517: FutureWarning: Passing (type, 1) or '1type' as a synonym of type is deprecated; in a future version of numpy, it will be understood as (type, (1,)) / '(1,)type'.\n",
      "  _np_quint8 = np.dtype([(\"quint8\", np.uint8, 1)])\n",
      "/usr/local/lib/python3.7/dist-packages/tensorflow/python/framework/dtypes.py:518: FutureWarning: Passing (type, 1) or '1type' as a synonym of type is deprecated; in a future version of numpy, it will be understood as (type, (1,)) / '(1,)type'.\n",
      "  _np_qint16 = np.dtype([(\"qint16\", np.int16, 1)])\n",
      "/usr/local/lib/python3.7/dist-packages/tensorflow/python/framework/dtypes.py:519: FutureWarning: Passing (type, 1) or '1type' as a synonym of type is deprecated; in a future version of numpy, it will be understood as (type, (1,)) / '(1,)type'.\n",
      "  _np_quint16 = np.dtype([(\"quint16\", np.uint16, 1)])\n",
      "/usr/local/lib/python3.7/dist-packages/tensorflow/python/framework/dtypes.py:520: FutureWarning: Passing (type, 1) or '1type' as a synonym of type is deprecated; in a future version of numpy, it will be understood as (type, (1,)) / '(1,)type'.\n",
      "  _np_qint32 = np.dtype([(\"qint32\", np.int32, 1)])\n",
      "/usr/local/lib/python3.7/dist-packages/tensorflow/python/framework/dtypes.py:525: FutureWarning: Passing (type, 1) or '1type' as a synonym of type is deprecated; in a future version of numpy, it will be understood as (type, (1,)) / '(1,)type'.\n",
      "  np_resource = np.dtype([(\"resource\", np.ubyte, 1)])\n",
      "/usr/local/lib/python3.7/dist-packages/tensorboard/compat/tensorflow_stub/dtypes.py:541: FutureWarning: Passing (type, 1) or '1type' as a synonym of type is deprecated; in a future version of numpy, it will be understood as (type, (1,)) / '(1,)type'.\n",
      "  _np_qint8 = np.dtype([(\"qint8\", np.int8, 1)])\n",
      "/usr/local/lib/python3.7/dist-packages/tensorboard/compat/tensorflow_stub/dtypes.py:542: FutureWarning: Passing (type, 1) or '1type' as a synonym of type is deprecated; in a future version of numpy, it will be understood as (type, (1,)) / '(1,)type'.\n",
      "  _np_quint8 = np.dtype([(\"quint8\", np.uint8, 1)])\n",
      "/usr/local/lib/python3.7/dist-packages/tensorboard/compat/tensorflow_stub/dtypes.py:543: FutureWarning: Passing (type, 1) or '1type' as a synonym of type is deprecated; in a future version of numpy, it will be understood as (type, (1,)) / '(1,)type'.\n",
      "  _np_qint16 = np.dtype([(\"qint16\", np.int16, 1)])\n",
      "/usr/local/lib/python3.7/dist-packages/tensorboard/compat/tensorflow_stub/dtypes.py:544: FutureWarning: Passing (type, 1) or '1type' as a synonym of type is deprecated; in a future version of numpy, it will be understood as (type, (1,)) / '(1,)type'.\n",
      "  _np_quint16 = np.dtype([(\"quint16\", np.uint16, 1)])\n",
      "/usr/local/lib/python3.7/dist-packages/tensorboard/compat/tensorflow_stub/dtypes.py:545: FutureWarning: Passing (type, 1) or '1type' as a synonym of type is deprecated; in a future version of numpy, it will be understood as (type, (1,)) / '(1,)type'.\n",
      "  _np_qint32 = np.dtype([(\"qint32\", np.int32, 1)])\n",
      "/usr/local/lib/python3.7/dist-packages/tensorboard/compat/tensorflow_stub/dtypes.py:550: FutureWarning: Passing (type, 1) or '1type' as a synonym of type is deprecated; in a future version of numpy, it will be understood as (type, (1,)) / '(1,)type'.\n",
      "  np_resource = np.dtype([(\"resource\", np.ubyte, 1)])\n"
     ]
    }
   ],
   "source": [
    "import numpy as np\n",
    "import pandas as pd\n",
    "import random as rnd\n",
    "import keras\n",
    "from keras.models import Sequential\n",
    "from keras.layers import Dense\n",
    "from keras.layers import LeakyReLU\n",
    "from keras.callbacks import CSVLogger\n",
    "import matplotlib.pyplot as plt"
   ]
  },
  {
   "cell_type": "code",
   "execution_count": 2,
   "metadata": {},
   "outputs": [],
   "source": [
    "fi = open('keptcolumns.txt', 'r')\n",
    "keptcolumns = fi.read().rstrip('\\n').split(', ')\n",
    "keptcolumns = np.array(keptcolumns)\n",
    "data = pd.read_csv('epi_r.csv', usecols = keptcolumns)\n",
    "data = data[pd.notnull(data['calories'])]\n",
    "data = data[pd.notnull(data['protein'])]\n",
    "data = data[pd.notnull(data['fat'])]\n",
    "data = data[data['calories'] != 0]\n",
    "data = data[data['protein'] != 0]\n",
    "data = data[data['fat'] != 0]\n",
    "data = data.values\n",
    "h_val = data[:, 0:6]\n",
    "ingred = data[:, 6:]"
   ]
  },
  {
   "cell_type": "code",
   "execution_count": 3,
   "metadata": {},
   "outputs": [],
   "source": [
    "def gen_dat(b_vec):\n",
    "    one_cnt = np.sum(b_vec == 1)\n",
    "    one_idx = np.where(b_vec == 1)\n",
    "\n",
    "    x = np.zeros((one_cnt, b_vec.shape[0]))\n",
    "    y = np.zeros((one_cnt, b_vec.shape[0]))\n",
    "\n",
    "    for i in range(one_cnt):\n",
    "        y_one_idx = one_idx[0][i];\n",
    "        x_one_idx = np.setdiff1d(one_idx[0], y_one_idx)\n",
    "        y[i, y_one_idx] = 1\n",
    "        x[i, x_one_idx] = 1\n",
    "\n",
    "    return x, y"
   ]
  },
  {
   "cell_type": "code",
   "execution_count": 4,
   "metadata": {},
   "outputs": [
    {
     "name": "stdout",
     "output_type": "stream",
     "text": [
      "(58058, 308)\n",
      "(58058, 308)\n"
     ]
    }
   ],
   "source": [
    "x_aug = np.empty((0, ingred.shape[1]))\n",
    "y_aug = np.empty((0, ingred.shape[1]))\n",
    "for i in range(ingred.shape[0]):\n",
    "    x, y = gen_dat(ingred[i])\n",
    "    x_aug = np.append(x_aug, x, axis = 0)\n",
    "    y_aug = np.append(y_aug, y, axis = 0)\n",
    "print(x_aug.shape)\n",
    "print(y_aug.shape)"
   ]
  },
  {
   "cell_type": "code",
   "execution_count": 11,
   "metadata": {},
   "outputs": [
    {
     "name": "stdout",
     "output_type": "stream",
     "text": [
      "Model: \"sequential_3\"\n",
      "_________________________________________________________________\n",
      "Layer (type)                 Output Shape              Param #   \n",
      "=================================================================\n",
      "dense_13 (Dense)             (None, 200)               61800     \n",
      "_________________________________________________________________\n",
      "leaky_re_lu_11 (LeakyReLU)   (None, 200)               0         \n",
      "_________________________________________________________________\n",
      "dense_14 (Dense)             (None, 300)               60300     \n",
      "_________________________________________________________________\n",
      "leaky_re_lu_12 (LeakyReLU)   (None, 300)               0         \n",
      "_________________________________________________________________\n",
      "dense_15 (Dense)             (None, 300)               90300     \n",
      "_________________________________________________________________\n",
      "leaky_re_lu_13 (LeakyReLU)   (None, 300)               0         \n",
      "_________________________________________________________________\n",
      "dense_16 (Dense)             (None, 300)               90300     \n",
      "_________________________________________________________________\n",
      "leaky_re_lu_14 (LeakyReLU)   (None, 300)               0         \n",
      "_________________________________________________________________\n",
      "dense_17 (Dense)             (None, 300)               90300     \n",
      "_________________________________________________________________\n",
      "leaky_re_lu_15 (LeakyReLU)   (None, 300)               0         \n",
      "_________________________________________________________________\n",
      "dense_18 (Dense)             (None, 308)               92708     \n",
      "=================================================================\n",
      "Total params: 485,708\n",
      "Trainable params: 485,708\n",
      "Non-trainable params: 0\n",
      "_________________________________________________________________\n"
     ]
    }
   ],
   "source": [
    "model1 = Sequential([Dense(200, input_shape=(308,)),\n",
    "                                    LeakyReLU(),\n",
    "                                    \n",
    "                                    Dense(300),\n",
    "                                    LeakyReLU(),\n",
    "                                    \n",
    "                                    Dense(300),\n",
    "                                    LeakyReLU(),\n",
    "                                                                                                            \n",
    "                                    Dense(300),\n",
    "                                    LeakyReLU(),\n",
    "                                    \n",
    "                                    Dense(300),\n",
    "                                    LeakyReLU(),\n",
    "                                    \n",
    "                                    Dense(308, activation='sigmoid')\n",
    "                                   ])\n",
    "model1.compile(optimizer='adam',\n",
    "              loss='categorical_crossentropy',\n",
    "              metrics=['categorical_accuracy'])\n",
    "model1.summary()"
   ]
  },
  {
   "cell_type": "code",
   "execution_count": 12,
   "metadata": {},
   "outputs": [
    {
     "name": "stdout",
     "output_type": "stream",
     "text": [
      "Epoch 1/18\n",
      "58058/58058 [==============================] - 5s 91us/step - loss: 4.7337 - categorical_accuracy: 0.0373\n",
      "Epoch 2/18\n",
      "58058/58058 [==============================] - 5s 89us/step - loss: 4.2887 - categorical_accuracy: 0.0601\n",
      "Epoch 3/18\n",
      "58058/58058 [==============================] - 5s 91us/step - loss: 4.0879 - categorical_accuracy: 0.0949\n",
      "Epoch 4/18\n",
      "58058/58058 [==============================] - 5s 92us/step - loss: 3.9128 - categorical_accuracy: 0.1338\n",
      "Epoch 5/18\n",
      "58058/58058 [==============================] - 6s 107us/step - loss: 3.7473 - categorical_accuracy: 0.1592\n",
      "Epoch 6/18\n",
      "58058/58058 [==============================] - 5s 94us/step - loss: 3.5989 - categorical_accuracy: 0.1786\n",
      "Epoch 7/18\n",
      "58058/58058 [==============================] - 6s 96us/step - loss: 3.4623 - categorical_accuracy: 0.1958\n",
      "Epoch 8/18\n",
      "58058/58058 [==============================] - 6s 112us/step - loss: 3.3265 - categorical_accuracy: 0.2148\n",
      "Epoch 9/18\n",
      "58058/58058 [==============================] - 6s 100us/step - loss: 3.1939 - categorical_accuracy: 0.2332\n",
      "Epoch 10/18\n",
      "58058/58058 [==============================] - 6s 96us/step - loss: 3.0667 - categorical_accuracy: 0.2531\n",
      "Epoch 11/18\n",
      "58058/58058 [==============================] - 6s 96us/step - loss: 2.9436 - categorical_accuracy: 0.2726\n",
      "Epoch 12/18\n",
      "58058/58058 [==============================] - 6s 106us/step - loss: 2.8214 - categorical_accuracy: 0.2946\n",
      "Epoch 13/18\n",
      "58058/58058 [==============================] - 6s 98us/step - loss: 2.7014 - categorical_accuracy: 0.3122\n",
      "Epoch 14/18\n",
      "58058/58058 [==============================] - 6s 99us/step - loss: 2.5863 - categorical_accuracy: 0.3358\n",
      "Epoch 15/18\n",
      "58058/58058 [==============================] - 6s 100us/step - loss: 2.4826 - categorical_accuracy: 0.3537\n",
      "Epoch 16/18\n",
      "58058/58058 [==============================] - 7s 114us/step - loss: 2.3719 - categorical_accuracy: 0.3740\n",
      "Epoch 17/18\n",
      "58058/58058 [==============================] - 6s 101us/step - loss: 2.2834 - categorical_accuracy: 0.3916\n",
      "Epoch 18/18\n",
      "58058/58058 [==============================] - 6s 102us/step - loss: 2.1788 - categorical_accuracy: 0.4121\n"
     ]
    },
    {
     "data": {
      "text/plain": [
       "<keras.callbacks.callbacks.History at 0x7fa9b38583c8>"
      ]
     },
     "execution_count": 12,
     "metadata": {},
     "output_type": "execute_result"
    }
   ],
   "source": [
    "csv_logger = CSVLogger('training1.log')\n",
    "model1.fit(x_aug, y_aug, epochs=18, batch_size=128, callbacks=[csv_logger])"
   ]
  },
  {
   "cell_type": "code",
   "execution_count": 13,
   "metadata": {},
   "outputs": [
    {
     "name": "stdout",
     "output_type": "stream",
     "text": [
      "(array([], dtype=int64),)\n"
     ]
    }
   ],
   "source": [
    "x = ingred\n",
    "calories = h_val[:, 2]\n",
    "protein = h_val[:, 3]\n",
    "fat = h_val[:, 4]\n",
    "y = protein / (calories * fat)\n",
    "print(np.where(y == 0))\n",
    "idx = np.argsort(y)\n",
    "idx = idx[:-250]\n",
    "np.random.shuffle(idx)\n",
    "x = x[idx]\n",
    "y = y[idx]\n",
    "maxi = np.max(y)\n",
    "y = y / maxi"
   ]
  },
  {
   "cell_type": "code",
   "execution_count": 14,
   "metadata": {},
   "outputs": [
    {
     "name": "stdout",
     "output_type": "stream",
     "text": [
      "Model: \"sequential_4\"\n",
      "_________________________________________________________________\n",
      "Layer (type)                 Output Shape              Param #   \n",
      "=================================================================\n",
      "dense_19 (Dense)             (None, 200)               61800     \n",
      "_________________________________________________________________\n",
      "leaky_re_lu_16 (LeakyReLU)   (None, 200)               0         \n",
      "_________________________________________________________________\n",
      "dense_20 (Dense)             (None, 500)               100500    \n",
      "_________________________________________________________________\n",
      "leaky_re_lu_17 (LeakyReLU)   (None, 500)               0         \n",
      "_________________________________________________________________\n",
      "dense_21 (Dense)             (None, 500)               250500    \n",
      "_________________________________________________________________\n",
      "leaky_re_lu_18 (LeakyReLU)   (None, 500)               0         \n",
      "_________________________________________________________________\n",
      "dense_22 (Dense)             (None, 500)               250500    \n",
      "_________________________________________________________________\n",
      "leaky_re_lu_19 (LeakyReLU)   (None, 500)               0         \n",
      "_________________________________________________________________\n",
      "dense_23 (Dense)             (None, 500)               250500    \n",
      "_________________________________________________________________\n",
      "leaky_re_lu_20 (LeakyReLU)   (None, 500)               0         \n",
      "_________________________________________________________________\n",
      "dense_24 (Dense)             (None, 500)               250500    \n",
      "_________________________________________________________________\n",
      "leaky_re_lu_21 (LeakyReLU)   (None, 500)               0         \n",
      "_________________________________________________________________\n",
      "dense_25 (Dense)             (None, 1)                 501       \n",
      "=================================================================\n",
      "Total params: 1,164,801\n",
      "Trainable params: 1,164,801\n",
      "Non-trainable params: 0\n",
      "_________________________________________________________________\n"
     ]
    }
   ],
   "source": [
    "model2 = Sequential([Dense(200, input_shape=(308,)),\n",
    "                                    LeakyReLU(),\n",
    "                                    \n",
    "                                    Dense(500),\n",
    "                                    LeakyReLU(),\n",
    "                                    \n",
    "                                    Dense(500),\n",
    "                                    LeakyReLU(),\n",
    "                    \n",
    "                                    Dense(500),\n",
    "                                    LeakyReLU(),\n",
    "                    \n",
    "                                    Dense(500),\n",
    "                                    LeakyReLU(),\n",
    "                    \n",
    "                                    Dense(500),\n",
    "                                    LeakyReLU(),\n",
    "                                                        \n",
    "                                    Dense(1)\n",
    "                                   ])\n",
    "model2.compile(optimizer='adam', loss='mean_squared_error')\n",
    "model2.summary()"
   ]
  },
  {
   "cell_type": "code",
   "execution_count": 15,
   "metadata": {},
   "outputs": [
    {
     "name": "stdout",
     "output_type": "stream",
     "text": [
      "Epoch 1/100\n",
      "14123/14123 [==============================] - 2s 135us/step - loss: 0.0230\n",
      "Epoch 2/100\n",
      "14123/14123 [==============================] - 2s 116us/step - loss: 0.0168\n",
      "Epoch 3/100\n",
      "14123/14123 [==============================] - 2s 117us/step - loss: 0.0151\n",
      "Epoch 4/100\n",
      "14123/14123 [==============================] - 2s 117us/step - loss: 0.0140\n",
      "Epoch 5/100\n",
      "14123/14123 [==============================] - 2s 117us/step - loss: 0.0129\n",
      "Epoch 6/100\n",
      "14123/14123 [==============================] - 2s 118us/step - loss: 0.0119\n",
      "Epoch 7/100\n",
      "14123/14123 [==============================] - 2s 119us/step - loss: 0.0101\n",
      "Epoch 8/100\n",
      "14123/14123 [==============================] - 2s 118us/step - loss: 0.0092\n",
      "Epoch 9/100\n",
      "14123/14123 [==============================] - 2s 120us/step - loss: 0.0082\n",
      "Epoch 10/100\n",
      "14123/14123 [==============================] - 2s 119us/step - loss: 0.0086\n",
      "Epoch 11/100\n",
      "14123/14123 [==============================] - 2s 120us/step - loss: 0.0071\n",
      "Epoch 12/100\n",
      "14123/14123 [==============================] - 2s 126us/step - loss: 0.0065\n",
      "Epoch 13/100\n",
      "14123/14123 [==============================] - 2s 160us/step - loss: 0.0063\n",
      "Epoch 14/100\n",
      "14123/14123 [==============================] - 2s 120us/step - loss: 0.0060\n",
      "Epoch 15/100\n",
      "14123/14123 [==============================] - 2s 121us/step - loss: 0.0062\n",
      "Epoch 16/100\n",
      "14123/14123 [==============================] - 2s 120us/step - loss: 0.0059\n",
      "Epoch 17/100\n",
      "14123/14123 [==============================] - 2s 121us/step - loss: 0.0055\n",
      "Epoch 18/100\n",
      "14123/14123 [==============================] - 2s 121us/step - loss: 0.0051\n",
      "Epoch 19/100\n",
      "14123/14123 [==============================] - 2s 122us/step - loss: 0.0050\n",
      "Epoch 20/100\n",
      "14123/14123 [==============================] - 2s 123us/step - loss: 0.0047\n",
      "Epoch 21/100\n",
      "14123/14123 [==============================] - 2s 132us/step - loss: 0.0045\n",
      "Epoch 22/100\n",
      "14123/14123 [==============================] - 2s 123us/step - loss: 0.0043\n",
      "Epoch 23/100\n",
      "14123/14123 [==============================] - 2s 123us/step - loss: 0.0042\n",
      "Epoch 24/100\n",
      "14123/14123 [==============================] - 2s 123us/step - loss: 0.0042\n",
      "Epoch 25/100\n",
      "14123/14123 [==============================] - 2s 140us/step - loss: 0.0042\n",
      "Epoch 26/100\n",
      "14123/14123 [==============================] - 2s 124us/step - loss: 0.0040\n",
      "Epoch 27/100\n",
      "14123/14123 [==============================] - 2s 125us/step - loss: 0.0039\n",
      "Epoch 28/100\n",
      "14123/14123 [==============================] - 2s 124us/step - loss: 0.0039\n",
      "Epoch 29/100\n",
      "14123/14123 [==============================] - 2s 125us/step - loss: 0.0039\n",
      "Epoch 30/100\n",
      "14123/14123 [==============================] - 2s 124us/step - loss: 0.0037\n",
      "Epoch 31/100\n",
      "14123/14123 [==============================] - 2s 125us/step - loss: 0.0037\n",
      "Epoch 32/100\n",
      "14123/14123 [==============================] - 2s 125us/step - loss: 0.0037\n",
      "Epoch 33/100\n",
      "14123/14123 [==============================] - 2s 134us/step - loss: 0.0035\n",
      "Epoch 34/100\n",
      "14123/14123 [==============================] - 2s 124us/step - loss: 0.0036\n",
      "Epoch 35/100\n",
      "14123/14123 [==============================] - 2s 125us/step - loss: 0.0036\n",
      "Epoch 36/100\n",
      "14123/14123 [==============================] - 2s 125us/step - loss: 0.0036\n",
      "Epoch 37/100\n",
      "14123/14123 [==============================] - 2s 162us/step - loss: 0.0035\n",
      "Epoch 38/100\n",
      "14123/14123 [==============================] - 2s 126us/step - loss: 0.0035\n",
      "Epoch 39/100\n",
      "14123/14123 [==============================] - 2s 124us/step - loss: 0.0035\n",
      "Epoch 40/100\n",
      "14123/14123 [==============================] - 2s 128us/step - loss: 0.0035\n",
      "Epoch 41/100\n",
      "14123/14123 [==============================] - 2s 126us/step - loss: 0.0035\n",
      "Epoch 42/100\n",
      "14123/14123 [==============================] - 2s 128us/step - loss: 0.0035\n",
      "Epoch 43/100\n",
      "14123/14123 [==============================] - 2s 126us/step - loss: 0.0035\n",
      "Epoch 44/100\n",
      "14123/14123 [==============================] - 2s 127us/step - loss: 0.0033\n",
      "Epoch 45/100\n",
      "14123/14123 [==============================] - 2s 127us/step - loss: 0.0033\n",
      "Epoch 46/100\n",
      "14123/14123 [==============================] - 2s 127us/step - loss: 0.0033\n",
      "Epoch 47/100\n",
      "14123/14123 [==============================] - 2s 126us/step - loss: 0.0033\n",
      "Epoch 48/100\n",
      "14123/14123 [==============================] - 2s 127us/step - loss: 0.0032\n",
      "Epoch 49/100\n",
      "14123/14123 [==============================] - 2s 166us/step - loss: 0.0032\n",
      "Epoch 50/100\n",
      "14123/14123 [==============================] - 2s 126us/step - loss: 0.0032\n",
      "Epoch 51/100\n",
      "14123/14123 [==============================] - 2s 125us/step - loss: 0.0032\n",
      "Epoch 52/100\n",
      "14123/14123 [==============================] - 2s 127us/step - loss: 0.0031\n",
      "Epoch 53/100\n",
      "14123/14123 [==============================] - 2s 124us/step - loss: 0.0032\n",
      "Epoch 54/100\n",
      "14123/14123 [==============================] - 2s 123us/step - loss: 0.0032\n",
      "Epoch 55/100\n",
      "14123/14123 [==============================] - 2s 122us/step - loss: 0.0031\n",
      "Epoch 56/100\n",
      "14123/14123 [==============================] - 2s 122us/step - loss: 0.0031\n",
      "Epoch 57/100\n",
      "14123/14123 [==============================] - 2s 129us/step - loss: 0.0030\n",
      "Epoch 58/100\n",
      "14123/14123 [==============================] - 2s 122us/step - loss: 0.0032\n",
      "Epoch 59/100\n",
      "14123/14123 [==============================] - 2s 123us/step - loss: 0.0031\n",
      "Epoch 60/100\n",
      "14123/14123 [==============================] - 2s 125us/step - loss: 0.0030\n",
      "Epoch 61/100\n",
      "14123/14123 [==============================] - 3s 198us/step - loss: 0.0031\n",
      "Epoch 62/100\n",
      "14123/14123 [==============================] - 2s 140us/step - loss: 0.0031\n",
      "Epoch 63/100\n",
      "14123/14123 [==============================] - 2s 129us/step - loss: 0.0030\n",
      "Epoch 64/100\n",
      "14123/14123 [==============================] - 2s 132us/step - loss: 0.0030\n",
      "Epoch 65/100\n",
      "14123/14123 [==============================] - 2s 127us/step - loss: 0.0030\n",
      "Epoch 66/100\n",
      "14123/14123 [==============================] - 2s 127us/step - loss: 0.0030\n",
      "Epoch 67/100\n",
      "14123/14123 [==============================] - 2s 127us/step - loss: 0.0030\n",
      "Epoch 68/100\n",
      "14123/14123 [==============================] - 2s 126us/step - loss: 0.0031\n",
      "Epoch 69/100\n",
      "14123/14123 [==============================] - 2s 127us/step - loss: 0.0030\n",
      "Epoch 70/100\n",
      "14123/14123 [==============================] - 2s 131us/step - loss: 0.0030\n",
      "Epoch 71/100\n",
      "14123/14123 [==============================] - 2s 129us/step - loss: 0.0030\n",
      "Epoch 72/100\n",
      "14123/14123 [==============================] - 2s 127us/step - loss: 0.0030\n",
      "Epoch 73/100\n",
      "14123/14123 [==============================] - 2s 164us/step - loss: 0.0030\n",
      "Epoch 74/100\n",
      "14123/14123 [==============================] - 2s 129us/step - loss: 0.0031\n",
      "Epoch 75/100\n",
      "14123/14123 [==============================] - 2s 127us/step - loss: 0.0030\n",
      "Epoch 76/100\n",
      "14123/14123 [==============================] - 2s 127us/step - loss: 0.0030\n",
      "Epoch 77/100\n",
      "14123/14123 [==============================] - 2s 126us/step - loss: 0.0030\n",
      "Epoch 78/100\n",
      "14123/14123 [==============================] - 2s 130us/step - loss: 0.0030\n",
      "Epoch 79/100\n",
      "14123/14123 [==============================] - 2s 131us/step - loss: 0.0030\n",
      "Epoch 80/100\n",
      "14123/14123 [==============================] - 2s 130us/step - loss: 0.0030\n",
      "Epoch 81/100\n",
      "14123/14123 [==============================] - 2s 128us/step - loss: 0.0030\n",
      "Epoch 82/100\n",
      "14123/14123 [==============================] - 2s 126us/step - loss: 0.0030\n",
      "Epoch 83/100\n",
      "14123/14123 [==============================] - 2s 126us/step - loss: 0.0030\n",
      "Epoch 84/100\n",
      "14123/14123 [==============================] - 2s 126us/step - loss: 0.0030\n",
      "Epoch 85/100\n",
      "14123/14123 [==============================] - 3s 201us/step - loss: 0.0031\n",
      "Epoch 86/100\n",
      "14123/14123 [==============================] - 2s 123us/step - loss: 0.0030\n",
      "Epoch 87/100\n",
      "14123/14123 [==============================] - 2s 124us/step - loss: 0.0030\n",
      "Epoch 88/100\n",
      "14123/14123 [==============================] - 2s 125us/step - loss: 0.0030\n",
      "Epoch 89/100\n",
      "14123/14123 [==============================] - 2s 124us/step - loss: 0.0030\n",
      "Epoch 90/100\n",
      "14123/14123 [==============================] - 2s 123us/step - loss: 0.0030\n",
      "Epoch 91/100\n",
      "14123/14123 [==============================] - 2s 124us/step - loss: 0.0030\n",
      "Epoch 92/100\n",
      "14123/14123 [==============================] - 2s 125us/step - loss: 0.0029\n",
      "Epoch 93/100\n"
     ]
    },
    {
     "name": "stdout",
     "output_type": "stream",
     "text": [
      "14123/14123 [==============================] - 2s 122us/step - loss: 0.0030\n",
      "Epoch 94/100\n",
      "14123/14123 [==============================] - 2s 124us/step - loss: 0.0030\n",
      "Epoch 95/100\n",
      "14123/14123 [==============================] - 2s 123us/step - loss: 0.0030\n",
      "Epoch 96/100\n",
      "14123/14123 [==============================] - 2s 127us/step - loss: 0.0030\n",
      "Epoch 97/100\n",
      "14123/14123 [==============================] - 2s 126us/step - loss: 0.0030\n",
      "Epoch 98/100\n",
      "14123/14123 [==============================] - 3s 206us/step - loss: 0.0030\n",
      "Epoch 99/100\n",
      "14123/14123 [==============================] - 2s 125us/step - loss: 0.0029\n",
      "Epoch 100/100\n",
      "14123/14123 [==============================] - 2s 125us/step - loss: 0.0030\n"
     ]
    },
    {
     "data": {
      "text/plain": [
       "<keras.callbacks.callbacks.History at 0x7fa9b3583f28>"
      ]
     },
     "execution_count": 15,
     "metadata": {},
     "output_type": "execute_result"
    }
   ],
   "source": [
    "csv_logger = CSVLogger('training2.log')\n",
    "model2.fit(x, y, epochs = 100, batch_size=1024, callbacks=[csv_logger])"
   ]
  },
  {
   "cell_type": "code",
   "execution_count": 16,
   "metadata": {},
   "outputs": [],
   "source": [
    "def test_model(test_ingred):\n",
    "    one_cnt = np.sum(test_ingred == 1)\n",
    "    one_idx = np.where(test_ingred == 1)\n",
    "\n",
    "    for i in range(one_cnt):\n",
    "        x = np.zeros((1, test_ingred.shape[0]))\n",
    "        x_one_idx = np.setdiff1d(one_idx[0], one_idx[0][i])\n",
    "        x[0, x_one_idx] = 1\n",
    "        \n",
    "        print(\"Taken:\", end =\" \")\n",
    "        print(keptcolumns[x_one_idx + 6], end =\" | \")\n",
    "        print(\"Omitted:\", end =\" \")\n",
    "        print(keptcolumns[one_idx[0][i] + 6])\n",
    "        \n",
    "        y = model.predict(x, batch_size=128)\n",
    "        y_one_idx = np.argsort(y[0])\n",
    "        y_one_idx = y_one_idx[-10:]\n",
    "\n",
    "        print(\"Suggestions:\", end =\" \")\n",
    "        print(keptcolumns[y_one_idx + 6])"
   ]
  },
  {
   "cell_type": "code",
   "execution_count": 17,
   "metadata": {},
   "outputs": [
    {
     "name": "stdout",
     "output_type": "stream",
     "text": [
      "0.786472148541114\n"
     ]
    }
   ],
   "source": [
    "cnt1 = 0\n",
    "cnt2 = 0\n",
    "for i in range(ingred.shape[0]):\n",
    "    one_cnt = np.sum(ingred[i] == 1)\n",
    "    one_idx = np.where(ingred[i] == 1)\n",
    "    for j in range(one_cnt):\n",
    "        x = np.zeros((1, ingred[i].shape[0]))\n",
    "        x_one_idx = np.setdiff1d(one_idx[0], one_idx[0][j])\n",
    "        x[0, x_one_idx] = 1\n",
    "        y = model1.predict(x, batch_size = 128)\n",
    "        y_one_idx = np.argsort(y[0])\n",
    "        y_one_idx = y_one_idx[-5:]\n",
    "        if one_idx[0][j] in y_one_idx:\n",
    "            cnt1 += 1\n",
    "        cnt2 += 1\n",
    "print(cnt1 / cnt2)"
   ]
  },
  {
   "cell_type": "code",
   "execution_count": 18,
   "metadata": {},
   "outputs": [],
   "source": [
    "def test_model(x_one_idx):\n",
    "    x = np.zeros((1, 308))\n",
    "    x[0, x_one_idx] = 1\n",
    "\n",
    "    y = model1.predict(x, batch_size = 128)\n",
    "    y_one_idx = np.argsort(y[0])\n",
    "    y_one_idx = y_one_idx[-5:]\n",
    "\n",
    "    print(keptcolumns[y_one_idx + 6])\n",
    "    print(y[0][y_one_idx])\n",
    "    \n",
    "    h = np.zeros(5)\n",
    "    for i in range(5):\n",
    "        new_x = np.append(x_one_idx, y_one_idx[i])\n",
    "        x = np.zeros((1, 308))\n",
    "        x[0, new_x] = 1        \n",
    "        new_y = model2.predict(x, batch_size = 128)\n",
    "        h[i] = new_y\n",
    "    \n",
    "    print(h)"
   ]
  },
  {
   "cell_type": "code",
   "execution_count": 20,
   "metadata": {},
   "outputs": [
    {
     "name": "stdout",
     "output_type": "stream",
     "text": [
      "Sweet Buttermilk Spoon Breads \n",
      "[[ 30 127 136 167]]\n",
      "[['bread' 'honey' 'jam or jelly' 'milk/cream']]\n",
      "Suggestions:\n",
      "['red wine' 'cornmeal' 'oat' 'egg' 'milk/cream']\n",
      "[0.03332213 0.04363778 0.0622538  0.25712508 0.4119308 ]\n",
      "[0.05752414 0.13749087 0.28989393 0.05849975 0.12579966]\n"
     ]
    }
   ],
   "source": [
    "row = 12\n",
    "print(h_val[row][0])\n",
    "ijk = np.array(np.where(ingred[row] == 1))\n",
    "print(ijk)\n",
    "print(keptcolumns[ijk + 6])\n",
    "print('Suggestions:')\n",
    "test_model(np.array([30, 127, 136]));"
   ]
  },
  {
   "cell_type": "code",
   "execution_count": 37,
   "metadata": {},
   "outputs": [
    {
     "data": {
      "image/png": "[encoded data removed]",
      "text/plain": [
       "<Figure size 1600x900 with 1 Axes>"
      ]
     },
     "metadata": {
      "needs_background": "light"
     },
     "output_type": "display_data"
    }
   ],
   "source": [
    "x = np.arange(0, 18)\n",
    "y = np.array([4.7337, 4.2887, 4.0879, 3.9128, 3.7473, 3.5989, 3.4623, 3.3265, 3.1939, 3.0667, 2.9436, 2.8214, 2.7014, 2.5863, 2.4826, 2.3719, 2.2834, 2.1788])\n",
    "plt.figure(figsize=(16, 9), dpi=100)\n",
    "plt.plot(x, y)\n",
    "plt.savefig('fig.png', dpi = 100)"
   ]
  },
  {
   "cell_type": "code",
   "execution_count": null,
   "metadata": {},
   "outputs": [],
   "source": []
  }
 ],
 "metadata": {
  "kernelspec": {
   "display_name": "Python 3",
   "language": "python",
   "name": "python3"
  },
  "language_info": {
   "codemirror_mode": {
    "name": "ipython",
    "version": 3
   },
   "file_extension": ".py",
   "mimetype": "text/x-python",
   "name": "python",
   "nbconvert_exporter": "python",
   "pygments_lexer": "ipython3",
   "version": "3.7.3"
  }
 },
 "nbformat": 4,
 "nbformat_minor": 2
}
